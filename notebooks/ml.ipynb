{
 "cells": [
  {
   "cell_type": "markdown",
   "id": "b83b065d-327b-42a2-8c0b-b87e55b18584",
   "metadata": {},
   "source": [
    "# Train Test Split"
   ]
  },
  {
   "cell_type": "code",
   "execution_count": 4715,
   "id": "06d9ba4c-8c9e-470d-9eb5-2e4e4232beae",
   "metadata": {},
   "outputs": [],
   "source": [
    "import pandas as pd\n",
    "from pathlib import Path\n",
    "DATA_PATH = Path('../data')"
   ]
  },
  {
   "cell_type": "code",
   "execution_count": 4716,
   "id": "f2a809d0-daa7-4204-acf5-a49838421b44",
   "metadata": {},
   "outputs": [],
   "source": [
    "weeks = 30\n",
    "df = pd.read_csv(DATA_PATH/f'train_data_{weeks}_weeks.csv', index_col=0)"
   ]
  },
  {
   "cell_type": "code",
   "execution_count": 4717,
   "id": "175f51b9-6aeb-4012-b5fe-5674c00d4521",
   "metadata": {},
   "outputs": [],
   "source": [
    "# import pandas as pd\n",
    "# import seaborn as sns\n",
    "# import matplotlib.pyplot as plt\n",
    "\n",
    "# correlation_matrix = df.corr()\n",
    "# plt.figure(figsize=(15, 10))\n",
    "# sns.heatmap(correlation_matrix, annot=True, cmap='coolwarm')\n",
    "# plt.show()"
   ]
  },
  {
   "cell_type": "code",
   "execution_count": 4718,
   "id": "c672449e-c144-4063-a1ea-64b8ac74edcf",
   "metadata": {},
   "outputs": [],
   "source": [
    "y = df.pop('target')\n",
    "X = df.copy()"
   ]
  },
  {
   "cell_type": "code",
   "execution_count": 4719,
   "id": "1de8e75e-5477-4270-8036-f23579222266",
   "metadata": {},
   "outputs": [],
   "source": [
    "from sklearn.model_selection import train_test_split\n",
    "X_train, X_test, y_train, y_test = train_test_split(X, y, test_size=0.25, random_state=7)"
   ]
  },
  {
   "cell_type": "code",
   "execution_count": 4720,
   "id": "837a8491-a2a0-4871-a532-607944b6129e",
   "metadata": {},
   "outputs": [
    {
     "name": "stdout",
     "output_type": "stream",
     "text": [
      "<class 'pandas.core.frame.DataFrame'>\n"
     ]
    }
   ],
   "source": [
    "print(type(X_train))"
   ]
  },
  {
   "cell_type": "markdown",
   "id": "ecf9c7e0-75ca-4850-9dc8-adb254f1eac4",
   "metadata": {},
   "source": [
    "# Standarization"
   ]
  },
  {
   "cell_type": "code",
   "execution_count": 4721,
   "id": "d3fad5c8-07f7-40f8-9d6c-c5bd5efa63ce",
   "metadata": {},
   "outputs": [],
   "source": [
    "from sklearn.preprocessing import StandardScaler\n",
    "scaler = StandardScaler()\n",
    "scaler.fit(X_train)\n",
    "X_train = scaler.transform(X_train)\n",
    "X_test = scaler.transform(X_test)\n",
    "X_train = pd.DataFrame(X_train, columns=X.columns)\n",
    "X_test = pd.DataFrame(X_test, columns=X.columns)"
   ]
  },
  {
   "cell_type": "code",
   "execution_count": 4722,
   "id": "985bd7d8-81a7-424b-a1a4-58f81ccc2e63",
   "metadata": {},
   "outputs": [
    {
     "name": "stdout",
     "output_type": "stream",
     "text": [
      "     is_premium  weeks_after_artist_created  weeks_after_song_released  \\\n",
      "0           0.0                    1.411376                   2.095606   \n",
      "1           0.0                    0.561281                  -0.695553   \n",
      "2           0.0                   -0.926386                  -0.695553   \n",
      "3           0.0                    0.773805                  -0.230360   \n",
      "4           0.0                    0.773805                   0.467430   \n",
      "..          ...                         ...                        ...   \n",
      "307         0.0                    0.136233                   0.467430   \n",
      "308         0.0                    0.773805                   1.165220   \n",
      "309         0.0                   -0.713862                   0.002237   \n",
      "310         0.0                   -0.076291                  -0.462957   \n",
      "311         0.0                    0.136233                   0.234833   \n",
      "\n",
      "     unique_listeners  total_streams  perc_of_subscribed_listeners  \\\n",
      "0            0.808694      -0.168060                     -0.000509   \n",
      "1            0.664836      -0.449043                      0.686522   \n",
      "2           -0.054454       0.749434                     -0.169145   \n",
      "3            0.190105      -0.982337                      0.770476   \n",
      "4            0.535364      -0.363028                      0.296949   \n",
      "..                ...            ...                           ...   \n",
      "307          0.377120      -0.563730                      1.118133   \n",
      "308          1.182724       0.468452                      0.206720   \n",
      "309         -1.852678       2.177286                     -1.823039   \n",
      "310          0.391506       0.416843                      0.107802   \n",
      "311          0.348348      -0.110717                     -0.060222   \n",
      "\n",
      "     average_listener_age  perc_listeners_from_Africa  \\\n",
      "0                0.149128                    0.533791   \n",
      "1               -1.040631                    1.384808   \n",
      "2                2.008544                   -0.239274   \n",
      "3                0.556023                   -0.117431   \n",
      "4               -1.343120                    1.478129   \n",
      "..                    ...                         ...   \n",
      "307             -0.916772                    1.074611   \n",
      "308             -0.735092                   -0.899909   \n",
      "309              0.925356                   -0.247898   \n",
      "310             -0.408679                   -0.235516   \n",
      "311              1.192063                    1.094862   \n",
      "\n",
      "     perc_listeners_from_Asia  perc_listeners_from_Europe  ...  \\\n",
      "0                   -1.064800                   -1.516266  ...   \n",
      "1                    0.125862                    0.559304  ...   \n",
      "2                    0.683578                   -1.122087  ...   \n",
      "3                    0.946731                   -0.931500  ...   \n",
      "4                   -1.342074                    0.705936  ...   \n",
      "..                        ...                         ...  ...   \n",
      "307                 -0.340258                    0.059399  ...   \n",
      "308                 -1.493295                    0.342425  ...   \n",
      "309                 -0.089229                    0.133411  ...   \n",
      "310                  0.555039                   -0.745857  ...   \n",
      "311                 -0.774662                    1.313852  ...   \n",
      "\n",
      "     song_genre_Alternative  song_genre_Blues  song_genre_Classical  \\\n",
      "0                  1.299867         -0.080322             -0.562544   \n",
      "1                 -0.769309         -0.080322             -0.562544   \n",
      "2                 -0.769309         -0.080322              1.777639   \n",
      "3                 -0.769309         -0.080322              1.777639   \n",
      "4                  1.299867         -0.080322             -0.562544   \n",
      "..                      ...               ...                   ...   \n",
      "307               -0.769309         -0.080322              1.777639   \n",
      "308               -0.769309         -0.080322              1.777639   \n",
      "309                1.299867         -0.080322             -0.562544   \n",
      "310                1.299867         -0.080322             -0.562544   \n",
      "311               -0.769309         -0.080322             -0.562544   \n",
      "\n",
      "     song_genre_Hip-hop  song_genre_Jazz  song_genre_Rock  \\\n",
      "0             -0.447214        -0.288675        -0.399814   \n",
      "1             -0.447214         3.464102        -0.399814   \n",
      "2             -0.447214        -0.288675        -0.399814   \n",
      "3             -0.447214        -0.288675        -0.399814   \n",
      "4             -0.447214        -0.288675        -0.399814   \n",
      "..                  ...              ...              ...   \n",
      "307           -0.447214        -0.288675        -0.399814   \n",
      "308           -0.447214        -0.288675        -0.399814   \n",
      "309           -0.447214        -0.288675        -0.399814   \n",
      "310           -0.447214        -0.288675        -0.399814   \n",
      "311           -0.447214        -0.288675         2.501163   \n",
      "\n",
      "     artist_continent_Africa  artist_continent_Asia  artist_continent_Europe  \\\n",
      "0                  -0.261712               1.087115                -0.839594   \n",
      "1                   3.820995              -0.919866                -0.839594   \n",
      "2                  -0.261712              -0.919866                 1.191052   \n",
      "3                  -0.261712              -0.919866                 1.191052   \n",
      "4                  -0.261712               1.087115                -0.839594   \n",
      "..                       ...                    ...                      ...   \n",
      "307                -0.261712              -0.919866                 1.191052   \n",
      "308                -0.261712              -0.919866                 1.191052   \n",
      "309                -0.261712               1.087115                -0.839594   \n",
      "310                -0.261712               1.087115                -0.839594   \n",
      "311                -0.261712               1.087115                -0.839594   \n",
      "\n",
      "     artist_continent_North America  \n",
      "0                         -0.261712  \n",
      "1                         -0.261712  \n",
      "2                         -0.261712  \n",
      "3                         -0.261712  \n",
      "4                         -0.261712  \n",
      "..                              ...  \n",
      "307                       -0.261712  \n",
      "308                       -0.261712  \n",
      "309                       -0.261712  \n",
      "310                       -0.261712  \n",
      "311                       -0.261712  \n",
      "\n",
      "[312 rows x 23 columns]\n"
     ]
    }
   ],
   "source": [
    "print(X_train)"
   ]
  },
  {
   "cell_type": "markdown",
   "id": "6ade861a-ff45-4372-a60c-6629351c0b6d",
   "metadata": {},
   "source": [
    "# Training and Testing ML"
   ]
  },
  {
   "cell_type": "code",
   "execution_count": 4723,
   "id": "84e67791-81cf-4ad0-90c4-35efb9e6c38d",
   "metadata": {},
   "outputs": [],
   "source": [
    "from sklearn.linear_model import LinearRegression, Ridge\n",
    "from sklearn.tree import DecisionTreeClassifier\n",
    "from sklearn import svm\n",
    "import xgboost as xgb\n",
    "\n",
    "#model = LinearRegression()\n",
    "#model = Ridge(alpha=1.0)\n",
    "model = xgb.XGBRegressor(objective='reg:squarederror', alpha = 0, colsample_bytree = 1, \n",
    "                             learning_rate = 0.01, max_depth = 3, n_estimators = 300, reg_lambda = 1, subsample = 0.8)\n",
    "\n",
    "#model = DecisionTreeClassifier()\n",
    "#model = svm.SVC(kernel='linear')"
   ]
  },
  {
   "cell_type": "code",
   "execution_count": 4724,
   "id": "02f0fbbf-438d-46c1-aac6-47b3933f872a",
   "metadata": {},
   "outputs": [],
   "source": [
    "# from sklearn.model_selection import GridSearchCV\n",
    "\n",
    "# param_grid = {\n",
    "#     'max_depth': [3, 5, 7],\n",
    "#     'learning_rate': [0.01, 0.1, 0.2],\n",
    "#     'n_estimators': [100, 200, 300],\n",
    "#     'subsample': [0.8, 1],\n",
    "#     'colsample_bytree': [0.8, 1],\n",
    "#     'alpha': [0, 0.1, 1],\n",
    "#     'reg_lambda': [1, 1.5, 2]\n",
    "# }\n",
    "\n",
    "# grid_search = GridSearchCV(estimator=model, param_grid=param_grid, cv=3, scoring='r2', verbose=1, n_jobs=-1)\n",
    "# grid_search.fit(X_train, y_train)\n",
    "\n",
    "# best_params = grid_search.best_params_\n",
    "# print(f\"Best parameters: {best_params}\")\n",
    "\n",
    "# best_model = xgb.XGBRegressor(**best_params)"
   ]
  },
  {
   "cell_type": "code",
   "execution_count": 4725,
   "id": "f243611b-ee62-46c3-ab61-8dd7fe59930f",
   "metadata": {},
   "outputs": [
    {
     "data": {
      "text/html": [
       "<style>#sk-container-id-327 {color: black;}#sk-container-id-327 pre{padding: 0;}#sk-container-id-327 div.sk-toggleable {background-color: white;}#sk-container-id-327 label.sk-toggleable__label {cursor: pointer;display: block;width: 100%;margin-bottom: 0;padding: 0.3em;box-sizing: border-box;text-align: center;}#sk-container-id-327 label.sk-toggleable__label-arrow:before {content: \"▸\";float: left;margin-right: 0.25em;color: #696969;}#sk-container-id-327 label.sk-toggleable__label-arrow:hover:before {color: black;}#sk-container-id-327 div.sk-estimator:hover label.sk-toggleable__label-arrow:before {color: black;}#sk-container-id-327 div.sk-toggleable__content {max-height: 0;max-width: 0;overflow: hidden;text-align: left;background-color: #f0f8ff;}#sk-container-id-327 div.sk-toggleable__content pre {margin: 0.2em;color: black;border-radius: 0.25em;background-color: #f0f8ff;}#sk-container-id-327 input.sk-toggleable__control:checked~div.sk-toggleable__content {max-height: 200px;max-width: 100%;overflow: auto;}#sk-container-id-327 input.sk-toggleable__control:checked~label.sk-toggleable__label-arrow:before {content: \"▾\";}#sk-container-id-327 div.sk-estimator input.sk-toggleable__control:checked~label.sk-toggleable__label {background-color: #d4ebff;}#sk-container-id-327 div.sk-label input.sk-toggleable__control:checked~label.sk-toggleable__label {background-color: #d4ebff;}#sk-container-id-327 input.sk-hidden--visually {border: 0;clip: rect(1px 1px 1px 1px);clip: rect(1px, 1px, 1px, 1px);height: 1px;margin: -1px;overflow: hidden;padding: 0;position: absolute;width: 1px;}#sk-container-id-327 div.sk-estimator {font-family: monospace;background-color: #f0f8ff;border: 1px dotted black;border-radius: 0.25em;box-sizing: border-box;margin-bottom: 0.5em;}#sk-container-id-327 div.sk-estimator:hover {background-color: #d4ebff;}#sk-container-id-327 div.sk-parallel-item::after {content: \"\";width: 100%;border-bottom: 1px solid gray;flex-grow: 1;}#sk-container-id-327 div.sk-label:hover label.sk-toggleable__label {background-color: #d4ebff;}#sk-container-id-327 div.sk-serial::before {content: \"\";position: absolute;border-left: 1px solid gray;box-sizing: border-box;top: 0;bottom: 0;left: 50%;z-index: 0;}#sk-container-id-327 div.sk-serial {display: flex;flex-direction: column;align-items: center;background-color: white;padding-right: 0.2em;padding-left: 0.2em;position: relative;}#sk-container-id-327 div.sk-item {position: relative;z-index: 1;}#sk-container-id-327 div.sk-parallel {display: flex;align-items: stretch;justify-content: center;background-color: white;position: relative;}#sk-container-id-327 div.sk-item::before, #sk-container-id-327 div.sk-parallel-item::before {content: \"\";position: absolute;border-left: 1px solid gray;box-sizing: border-box;top: 0;bottom: 0;left: 50%;z-index: -1;}#sk-container-id-327 div.sk-parallel-item {display: flex;flex-direction: column;z-index: 1;position: relative;background-color: white;}#sk-container-id-327 div.sk-parallel-item:first-child::after {align-self: flex-end;width: 50%;}#sk-container-id-327 div.sk-parallel-item:last-child::after {align-self: flex-start;width: 50%;}#sk-container-id-327 div.sk-parallel-item:only-child::after {width: 0;}#sk-container-id-327 div.sk-dashed-wrapped {border: 1px dashed gray;margin: 0 0.4em 0.5em 0.4em;box-sizing: border-box;padding-bottom: 0.4em;background-color: white;}#sk-container-id-327 div.sk-label label {font-family: monospace;font-weight: bold;display: inline-block;line-height: 1.2em;}#sk-container-id-327 div.sk-label-container {text-align: center;}#sk-container-id-327 div.sk-container {/* jupyter's `normalize.less` sets `[hidden] { display: none; }` but bootstrap.min.css set `[hidden] { display: none !important; }` so we also need the `!important` here to be able to override the default hidden behavior on the sphinx rendered scikit-learn.org. See: https://github.com/scikit-learn/scikit-learn/issues/21755 */display: inline-block !important;position: relative;}#sk-container-id-327 div.sk-text-repr-fallback {display: none;}</style><div id=\"sk-container-id-327\" class=\"sk-top-container\"><div class=\"sk-text-repr-fallback\"><pre>XGBRegressor(alpha=0, base_score=None, booster=None, callbacks=None,\n",
       "             colsample_bylevel=None, colsample_bynode=None, colsample_bytree=1,\n",
       "             device=None, early_stopping_rounds=None, enable_categorical=False,\n",
       "             eval_metric=None, feature_types=None, gamma=None, grow_policy=None,\n",
       "             importance_type=None, interaction_constraints=None,\n",
       "             learning_rate=0.01, max_bin=None, max_cat_threshold=None,\n",
       "             max_cat_to_onehot=None, max_delta_step=None, max_depth=3,\n",
       "             max_leaves=None, min_child_weight=None, missing=nan,\n",
       "             monotone_constraints=None, multi_strategy=None, n_estimators=300,\n",
       "             n_jobs=None, num_parallel_tree=None, ...)</pre><b>In a Jupyter environment, please rerun this cell to show the HTML representation or trust the notebook. <br />On GitHub, the HTML representation is unable to render, please try loading this page with nbviewer.org.</b></div><div class=\"sk-container\" hidden><div class=\"sk-item\"><div class=\"sk-estimator sk-toggleable\"><input class=\"sk-toggleable__control sk-hidden--visually\" id=\"sk-estimator-id-327\" type=\"checkbox\" checked><label for=\"sk-estimator-id-327\" class=\"sk-toggleable__label sk-toggleable__label-arrow\">XGBRegressor</label><div class=\"sk-toggleable__content\"><pre>XGBRegressor(alpha=0, base_score=None, booster=None, callbacks=None,\n",
       "             colsample_bylevel=None, colsample_bynode=None, colsample_bytree=1,\n",
       "             device=None, early_stopping_rounds=None, enable_categorical=False,\n",
       "             eval_metric=None, feature_types=None, gamma=None, grow_policy=None,\n",
       "             importance_type=None, interaction_constraints=None,\n",
       "             learning_rate=0.01, max_bin=None, max_cat_threshold=None,\n",
       "             max_cat_to_onehot=None, max_delta_step=None, max_depth=3,\n",
       "             max_leaves=None, min_child_weight=None, missing=nan,\n",
       "             monotone_constraints=None, multi_strategy=None, n_estimators=300,\n",
       "             n_jobs=None, num_parallel_tree=None, ...)</pre></div></div></div></div></div>"
      ],
      "text/plain": [
       "XGBRegressor(alpha=0, base_score=None, booster=None, callbacks=None,\n",
       "             colsample_bylevel=None, colsample_bynode=None, colsample_bytree=1,\n",
       "             device=None, early_stopping_rounds=None, enable_categorical=False,\n",
       "             eval_metric=None, feature_types=None, gamma=None, grow_policy=None,\n",
       "             importance_type=None, interaction_constraints=None,\n",
       "             learning_rate=0.01, max_bin=None, max_cat_threshold=None,\n",
       "             max_cat_to_onehot=None, max_delta_step=None, max_depth=3,\n",
       "             max_leaves=None, min_child_weight=None, missing=nan,\n",
       "             monotone_constraints=None, multi_strategy=None, n_estimators=300,\n",
       "             n_jobs=None, num_parallel_tree=None, ...)"
      ]
     },
     "execution_count": 4725,
     "metadata": {},
     "output_type": "execute_result"
    }
   ],
   "source": [
    "model.fit(X_train, y_train)"
   ]
  },
  {
   "cell_type": "code",
   "execution_count": 4726,
   "id": "1ecbbf65-c12f-46a9-81f4-7f044a8652a0",
   "metadata": {},
   "outputs": [
    {
     "name": "stdout",
     "output_type": "stream",
     "text": [
      "RMSE on train set: 11.67\n",
      "RMSE on test set: 15.43\n",
      "R-squared on train set: 0.81\n",
      "R-squared on test set: 0.70\n"
     ]
    }
   ],
   "source": [
    "import numpy as np\n",
    "from sklearn.model_selection import train_test_split\n",
    "from sklearn.metrics import mean_squared_error, r2_score\n",
    "\n",
    "#y_train_pred_log = model.predict(X_train)\n",
    "y_train_pred = model.predict(X_train)\n",
    "# Make predictions on the test set\n",
    "#y_test_pred_log = model.predict(X_test)\n",
    "y_test_pred = model.predict(X_test)\n",
    "\n",
    "#new\n",
    "# y_train_pred = np.expm1(y_train_pred_log)\n",
    "# y_test_pred = np.expm1(y_test_pred_log)\n",
    "# y_train = np.expm1(y_train)\n",
    "# y_test = np.expm1(y_test)\n",
    "\n",
    "# Calculate Root Mean Squared Error (RMSE) on train and test sets\n",
    "rmse_train = np.sqrt(mean_squared_error(y_train, y_train_pred))\n",
    "rmse_test = np.sqrt(mean_squared_error(y_test, y_test_pred))\n",
    "\n",
    "# Calculate R-squared (R2) on train and test sets\n",
    "r2_train = r2_score(y_train, y_train_pred)\n",
    "r2_test = r2_score(y_test, y_test_pred)\n",
    "\n",
    "print(f\"RMSE on train set: {rmse_train:.2f}\")\n",
    "print(f\"RMSE on test set: {rmse_test:.2f}\")\n",
    "\n",
    "print(f\"R-squared on train set: {r2_train:.2f}\")\n",
    "print(f\"R-squared on test set: {r2_test:.2f}\")\n",
    "\n"
   ]
  },
  {
   "cell_type": "code",
   "execution_count": 4727,
   "id": "82645fb5-0fed-4eeb-891b-971e5e3b2a44",
   "metadata": {},
   "outputs": [
    {
     "data": {
      "image/png": "[encoded data removed]",
      "text/plain": [
       "<Figure size 1200x600 with 2 Axes>"
      ]
     },
     "metadata": {},
     "output_type": "display_data"
    }
   ],
   "source": [
    "#residual plots\n",
    "from sklearn.linear_model import LinearRegression\n",
    "import numpy as np\n",
    "import matplotlib.pyplot as plt\n",
    "from scipy.stats import probplot\n",
    "\n",
    "\n",
    "\n",
    "# Residuals\n",
    "residuals = y_train - y_train_pred\n",
    "#residuals = y_test - y_test_pred\n",
    "\n",
    "# Plotting the residuals\n",
    "plt.figure(figsize=(12, 6))\n",
    "\n",
    "plt.subplot(1, 2, 1)\n",
    "plt.scatter(y_train_pred, residuals)\n",
    "plt.axhline(y=0, color='red', linestyle='--')\n",
    "plt.xlabel('Predicted Values')\n",
    "plt.ylabel('Residuals')\n",
    "plt.title('Residuals vs. Predicted Values')\n",
    "\n",
    "plt.subplot(1, 2, 2)\n",
    "probplot(residuals, dist=\"norm\", plot=plt)\n",
    "plt.title('Normal Q-Q Plot ')\n",
    "\n",
    "plt.tight_layout()\n",
    "plt.show()"
   ]
  },
  {
   "cell_type": "code",
   "execution_count": 4728,
   "id": "d318e2c5-0d3c-4e21-b697-11ade85d1182",
   "metadata": {
    "scrolled": true
   },
   "outputs": [
    {
     "ename": "AttributeError",
     "evalue": "Coefficients are not defined for Booster type None",
     "output_type": "error",
     "traceback": [
      "\u001b[1;31m------------------------------------------------------------------------\u001b[0m",
      "\u001b[1;31mAttributeError\u001b[0m                         Traceback (most recent call last)",
      "Cell \u001b[1;32mIn[4728], line 5\u001b[0m\n\u001b[0;32m      1\u001b[0m \u001b[38;5;28;01mimport\u001b[39;00m \u001b[38;5;21;01mmatplotlib\u001b[39;00m\u001b[38;5;21;01m.\u001b[39;00m\u001b[38;5;21;01mpyplot\u001b[39;00m \u001b[38;5;28;01mas\u001b[39;00m \u001b[38;5;21;01mplt\u001b[39;00m\n\u001b[0;32m      4\u001b[0m \u001b[38;5;66;03m# Get the coefficients and corresponding feature names\u001b[39;00m\n\u001b[1;32m----> 5\u001b[0m coefficients \u001b[38;5;241m=\u001b[39m \u001b[43mmodel\u001b[49m\u001b[38;5;241;43m.\u001b[39;49m\u001b[43mcoef_\u001b[49m\n\u001b[0;32m      6\u001b[0m feature_names \u001b[38;5;241m=\u001b[39m X\u001b[38;5;241m.\u001b[39mcolumns\n\u001b[0;32m      8\u001b[0m \u001b[38;5;66;03m# Create a horizontal bar chart\u001b[39;00m\n",
      "File \u001b[1;32m~\\AppData\\Local\\pypoetry\\Cache\\virtualenvs\\thesisv2-LGT51mZ0-py3.11\\Lib\\site-packages\\xgboost\\sklearn.py:1368\u001b[0m, in \u001b[0;36mXGBModel.coef_\u001b[1;34m(self)\u001b[0m\n\u001b[0;32m   1354\u001b[0m \u001b[38;5;250m\u001b[39m\u001b[38;5;124;03m\"\"\"\u001b[39;00m\n\u001b[0;32m   1355\u001b[0m \u001b[38;5;124;03mCoefficients property\u001b[39;00m\n\u001b[0;32m   1356\u001b[0m \n\u001b[1;32m   (...)\u001b[0m\n\u001b[0;32m   1365\u001b[0m \u001b[38;5;124;03mcoef_ : array of shape ``[n_features]`` or ``[n_classes, n_features]``\u001b[39;00m\n\u001b[0;32m   1366\u001b[0m \u001b[38;5;124;03m\"\"\"\u001b[39;00m\n\u001b[0;32m   1367\u001b[0m \u001b[38;5;28;01mif\u001b[39;00m \u001b[38;5;28mself\u001b[39m\u001b[38;5;241m.\u001b[39mget_xgb_params()[\u001b[38;5;124m\"\u001b[39m\u001b[38;5;124mbooster\u001b[39m\u001b[38;5;124m\"\u001b[39m] \u001b[38;5;241m!=\u001b[39m \u001b[38;5;124m\"\u001b[39m\u001b[38;5;124mgblinear\u001b[39m\u001b[38;5;124m\"\u001b[39m:\n\u001b[1;32m-> 1368\u001b[0m     \u001b[38;5;28;01mraise\u001b[39;00m \u001b[38;5;167;01mAttributeError\u001b[39;00m(\n\u001b[0;32m   1369\u001b[0m         \u001b[38;5;124mf\u001b[39m\u001b[38;5;124m\"\u001b[39m\u001b[38;5;124mCoefficients are not defined for Booster type \u001b[39m\u001b[38;5;132;01m{\u001b[39;00m\u001b[38;5;28mself\u001b[39m\u001b[38;5;241m.\u001b[39mbooster\u001b[38;5;132;01m}\u001b[39;00m\u001b[38;5;124m\"\u001b[39m\n\u001b[0;32m   1370\u001b[0m     )\n\u001b[0;32m   1371\u001b[0m b \u001b[38;5;241m=\u001b[39m \u001b[38;5;28mself\u001b[39m\u001b[38;5;241m.\u001b[39mget_booster()\n\u001b[0;32m   1372\u001b[0m coef \u001b[38;5;241m=\u001b[39m np\u001b[38;5;241m.\u001b[39marray(json\u001b[38;5;241m.\u001b[39mloads(b\u001b[38;5;241m.\u001b[39mget_dump(dump_format\u001b[38;5;241m=\u001b[39m\u001b[38;5;124m\"\u001b[39m\u001b[38;5;124mjson\u001b[39m\u001b[38;5;124m\"\u001b[39m)[\u001b[38;5;241m0\u001b[39m])[\u001b[38;5;124m\"\u001b[39m\u001b[38;5;124mweight\u001b[39m\u001b[38;5;124m\"\u001b[39m])\n",
      "\u001b[1;31mAttributeError\u001b[0m: Coefficients are not defined for Booster type None"
     ]
    }
   ],
   "source": [
    "import matplotlib.pyplot as plt\n",
    "\n",
    "\n",
    "# Get the coefficients and corresponding feature names\n",
    "coefficients = model.coef_\n",
    "feature_names = X.columns\n",
    "\n",
    "# Create a horizontal bar chart\n",
    "plt.figure(figsize=(8, 6))\n",
    "plt.barh(feature_names, coefficients)\n",
    "\n",
    "# Add labels and title\n",
    "plt.xlabel('Coefficients')\n",
    "plt.ylabel('Feature Names')\n",
    "plt.title('Linear Regression Coefficients')\n",
    "\n",
    "# Show the plot\n",
    "plt.tight_layout()\n",
    "plt.show()"
   ]
  },
  {
   "cell_type": "code",
   "execution_count": null,
   "id": "b89f3936-a23a-4b49-b666-0e5cfa50ac9b",
   "metadata": {},
   "outputs": [],
   "source": [
    "plt.figure(figsize=(8, 6))\n",
    "\n",
    "y_test = y_test[y_test<1000][:20].to_numpy()\n",
    "y_test_pred=y_test_pred[y_test_pred<1000][:20]\n",
    "\n",
    "plt.scatter(range(len(y_test[y_test<1000][:20])), y_test[y_test<100][:20], color='blue', label='Actual', alpha=0.5)\n",
    "plt.scatter(range(len(y_test_pred[y_test_pred<1000][:20])), y_test_pred[y_test_pred<1000][:20], color='red', label='Predicted', alpha=0.5)\n",
    "\n",
    "print(type(y_test_pred))\n",
    "for i in range(len(y_test)):\n",
    "    plt.plot([i, i], [y_test[i], y_test_pred[i]], color='gray', linestyle='--', lw=1)\n",
    "\n",
    "plt.title('Comparison of Actual and Predicted Streams')\n",
    "plt.xlabel('Index of Samples')\n",
    "plt.ylabel('Number of Streams')\n",
    "plt.legend()\n",
    "plt.grid(True)\n",
    "#plt.show()"
   ]
  },
  {
   "cell_type": "code",
   "execution_count": null,
   "id": "7647123d-61e3-44ba-94df-3b8bc725eed2",
   "metadata": {},
   "outputs": [],
   "source": [
    "coefs_df = pd.DataFrame([feature_names, coefficients]).T\n",
    "coefs_df.columns=['name', 'coef']\n",
    "coefs_df = coefs_df.set_index('name')\n",
    "coefs_df = coefs_df.sort_values('coef')\n",
    "\n",
    "coefs_df"
   ]
  },
  {
   "cell_type": "code",
   "execution_count": null,
   "id": "432c1953-10ba-4030-9f23-0f18efe7db92",
   "metadata": {},
   "outputs": [],
   "source": []
  }
 ],
 "metadata": {
  "kernelspec": {
   "display_name": "Python 3 (ipykernel)",
   "language": "python",
   "name": "python3"
  },
  "language_info": {
   "codemirror_mode": {
    "name": "ipython",
    "version": 3
   },
   "file_extension": ".py",
   "mimetype": "text/x-python",
   "name": "python",
   "nbconvert_exporter": "python",
   "pygments_lexer": "ipython3",
   "version": "3.11.5"
  }
 },
 "nbformat": 4,
 "nbformat_minor": 5
}

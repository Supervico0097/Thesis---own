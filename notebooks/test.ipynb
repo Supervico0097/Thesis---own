{
 "cells": [
  {
   "cell_type": "code",
   "execution_count": 1,
   "metadata": {
    "is_executing": true,
    "tags": []
   },
   "outputs": [],
   "source": [
    "import yaml\n",
    "\n",
    "with open(\"../config_music.yaml\") as fh:\n",
    "    data = yaml.load(fh, Loader=yaml.FullLoader)"
   ]
  },
  {
   "cell_type": "code",
   "execution_count": 2,
   "metadata": {
    "collapsed": false,
    "jupyter": {
     "outputs_hidden": false
    }
   },
   "outputs": [
    {
     "data": {
      "text/plain": [
       "{'WEEKS_NUM': 100,\n",
       " 'users_number': 10000,\n",
       " 'artists_number': 1000,\n",
       " 'frequencies_genre': {'Pop': {'users': 400, 'artist': 300},\n",
       "  'Rock': {'users': 700, 'artist': 200},\n",
       "  'Hip-hop': {'users': 300, 'artist': 100},\n",
       "  'Electronic': {'users': 200, 'artist': 200},\n",
       "  'Jazz': {'users': 170, 'artist': 500},\n",
       "  'Classical': {'users': 100, 'artist': 100},\n",
       "  'Blues': {'users': 150, 'artist': 300},\n",
       "  'Alternative': {'users': 400, 'artist': 400}},\n",
       " 'frequencies_continent': {'North America': {'users': 700, 'artists': 700},\n",
       "  'South America': {'users': 400, 'artists': 400},\n",
       "  'Europe': {'users': 500, 'artists': 500},\n",
       "  'Africa': {'users': 200, 'artists': 200},\n",
       "  'Asia': {'users': 300, 'artists': 300},\n",
       "  'Oceana': {'users': 100, 'artists': 100}},\n",
       " '_users': [],\n",
       " 'frequencies_': [],\n",
       " 'avg_songs_unsub': 20,\n",
       " 'avg_songs_sub': 50,\n",
       " 'p_random_songs_stream': 0.8,\n",
       " 'p_1': 0.8,\n",
       " 'p_2': 0.7,\n",
       " 'p_3': 0.6,\n",
       " 'p_4': 0.4,\n",
       " 'p_favorite_playlist': 0.6,\n",
       " 'p_favorite': 0.6,\n",
       " 'p_repeat_fav_sg': 0.55,\n",
       " 'p_repeat_not_fav_sg_fv_gn': 0.5,\n",
       " 'p_repeat_not_fav_sg_not_fv_gn': 0.3}"
      ]
     },
     "execution_count": 2,
     "metadata": {},
     "output_type": "execute_result"
    }
   ],
   "source": [
    "data"
   ]
  },
  {
   "cell_type": "code",
   "execution_count": 15,
   "metadata": {},
   "outputs": [],
   "source": [
    "\n",
    "frequencies_continent_df = pd.DataFrame(data['frequencies_continent']).T\n",
    "probabilities_continent_df = frequencies_continent_df / frequencies_continent_df.sum()"
   ]
  },
  {
   "cell_type": "code",
   "execution_count": 21,
   "metadata": {},
   "outputs": [
    {
     "data": {
      "text/plain": [
       "[0.3181818181818182,\n",
       " 0.18181818181818182,\n",
       " 0.22727272727272727,\n",
       " 0.09090909090909091,\n",
       " 0.13636363636363635,\n",
       " 0.045454545454545456]"
      ]
     },
     "execution_count": 21,
     "metadata": {},
     "output_type": "execute_result"
    }
   ],
   "source": [
    "probabilities_continent_df.users.to_list()"
   ]
  },
  {
   "cell_type": "code",
   "execution_count": null,
   "metadata": {},
   "outputs": [],
   "source": [
    "to_list"
   ]
  }
 ],
 "metadata": {
  "kernelspec": {
   "display_name": "Python 3 (ipykernel)",
   "language": "python",
   "name": "python3"
  },
  "language_info": {
   "codemirror_mode": {
    "name": "ipython",
    "version": 3
   },
   "file_extension": ".py",
   "mimetype": "text/x-python",
   "name": "python",
   "nbconvert_exporter": "python",
   "pygments_lexer": "ipython3",
   "version": "3.11.3"
  }
 },
 "nbformat": 4,
 "nbformat_minor": 4
}

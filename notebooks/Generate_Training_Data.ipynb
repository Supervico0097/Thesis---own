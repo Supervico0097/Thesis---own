{
 "cells": [
  {
   "cell_type": "markdown",
   "id": "90352645-ea0c-4301-bb4e-ad64e6f08276",
   "metadata": {
    "tags": []
   },
   "source": [
    "# Data Processing"
   ]
  },
  {
   "cell_type": "code",
   "execution_count": 1,
   "id": "90cf3053-33e7-474f-abff-caa80eb35ca4",
   "metadata": {},
   "outputs": [
    {
     "data": {
      "text/plain": [
       "30"
      ]
     },
     "execution_count": 1,
     "metadata": {},
     "output_type": "execute_result"
    }
   ],
   "source": [
    "from pathlib import Path\n",
    "import pandas as pd\n",
    "\n",
    "\n",
    "DATA_PATH = Path('../data')\n",
    "artists_df = pd.read_csv(DATA_PATH/'artists.csv', index_col=0)\n",
    "\n",
    "songs_df = pd.read_csv(DATA_PATH/'songs.csv', index_col=0)\n",
    "streams_df = pd.read_csv(DATA_PATH/'streams.csv', index_col=0)\n",
    "users_df = pd.read_csv(DATA_PATH/'users.csv', index_col=0)\n",
    "weeks = streams_df.week_no.max() + 1\n",
    "weeks"
   ]
  },
  {
   "cell_type": "code",
   "execution_count": 2,
   "id": "1680bd45-8ebd-444b-90c9-511294d6b459",
   "metadata": {},
   "outputs": [],
   "source": [
    "if weeks == 30:\n",
    "    MINIMAL_HISTORY_WEEKS = 5\n",
    "    PREDICT_IN_FUTURE_WEEKS = 5\n",
    "    MAX_HISTORY_WEEK = 29\n",
    "elif weeks == 100:\n",
    "    MINIMAL_HISTORY_WEEKS = 15 \n",
    "    PREDICT_IN_FUTURE_WEEKS = 20\n",
    "    MAX_HISTORY_WEEK = 99\n",
    "else:\n",
    "    raise(Exception(f'You should prepare a config for {weeks} weeks'))"
   ]
  },
  {
   "cell_type": "code",
   "execution_count": 3,
   "id": "0253d4e9-ca77-448a-be06-5c1e38395296",
   "metadata": {},
   "outputs": [
    {
     "name": "stderr",
     "output_type": "stream",
     "text": [
      "100%|████████████████████████████████████████████████████████████████████████████████████████████████████████████████| 302/302 [00:04<00:00, 61.92it/s]\n"
     ]
    }
   ],
   "source": [
    "from tqdm import tqdm\n",
    "\n",
    "results = []\n",
    "\n",
    "small_sample_songs_df = songs_df\n",
    "# .loc[:1000]\n",
    "\n",
    "for song_id, song in tqdm(small_sample_songs_df.iterrows(), total=small_sample_songs_df.shape[0]):\n",
    "    for week_no in range(song.week_released + MINIMAL_HISTORY_WEEKS, MAX_HISTORY_WEEK-PREDICT_IN_FUTURE_WEEKS+1):\n",
    "        # print(week_released)\n",
    "        sel_artist_df = artists_df.loc[song.artist_id]\n",
    "        sel_streams_df = streams_df[\n",
    "            (streams_df.song_id==song_id) &\n",
    "            (streams_df.week_no<week_no) & \n",
    "            (streams_df.week_no>=week_no-MINIMAL_HISTORY_WEEKS) \n",
    "        ]\n",
    "        sel_users_df = users_df.loc[sel_streams_df.user_id.unique()]\n",
    "        \n",
    "        perc_listeners_from_continent_dict = (pd.get_dummies(sel_users_df.continent, prefix='perc_listeners_from').sum()/sel_users_df.shape[0]).to_dict()\n",
    "        sel_target_streams_df = streams_df[\n",
    "            (streams_df.song_id==song_id) &\n",
    "            (streams_df.week_no==week_no+PREDICT_IN_FUTURE_WEEKS)\n",
    "        ]\n",
    "        \n",
    "        row = {\n",
    "            \"genre\": song.genre,\n",
    "            \"is_premium\": song.is_premium,\n",
    "            \"artist_continent\": sel_artist_df.continent,\n",
    "            \"weeks_after_artist_created\": week_no - sel_artist_df.week_no_created,\n",
    "            \"weeks_after_song_released\": week_no - song.week_released,\n",
    "            \"unique_listeners\": sel_streams_df.user_id.nunique(),\n",
    "            \"total_streams\": sel_streams_df.shape[0],\n",
    "            \"perc_of_subscribed_listeners\": 0 if sel_users_df.empty else sel_users_df.is_subscribed.mean(),\n",
    "            \"average_listener_age\": 0 if sel_users_df.empty else sel_users_df.age.mean(),\n",
    "            **perc_listeners_from_continent_dict,\n",
    "            'target': sel_target_streams_df.shape[0],\n",
    "        }\n",
    "        results.append(row)\n",
    "        \n",
    "df = pd.DataFrame(results)"
   ]
  },
  {
   "cell_type": "code",
   "execution_count": 5,
   "id": "8e340570-6135-431b-88fc-c3750c61d917",
   "metadata": {},
   "outputs": [],
   "source": [
    "df = pd.DataFrame(results)"
   ]
  },
  {
   "cell_type": "code",
   "execution_count": 6,
   "id": "1d6b89a5-7516-4667-8a25-f67c4946a969",
   "metadata": {
    "scrolled": true
   },
   "outputs": [
    {
     "name": "stdout",
     "output_type": "stream",
     "text": [
      "          genre  is_premium artist_continent  weeks_after_artist_created  \\\n",
      "0    Electronic       False    North America                           6   \n",
      "1    Electronic       False    North America                           7   \n",
      "2    Electronic       False    North America                           8   \n",
      "3    Electronic       False    North America                           9   \n",
      "4    Electronic       False    North America                          10   \n",
      "..          ...         ...              ...                         ...   \n",
      "731        Rock       False    North America                           9   \n",
      "732        Jazz        True    North America                           7   \n",
      "733        Rock       False           Oceana                           6   \n",
      "734         Pop       False           Oceana                           5   \n",
      "735         Pop       False    South America                           5   \n",
      "\n",
      "     weeks_after_song_released  unique_listeners  total_streams  \\\n",
      "0                            5                50            130   \n",
      "1                            6                52            149   \n",
      "2                            7                56            158   \n",
      "3                            8                59            161   \n",
      "4                            9                63            169   \n",
      "..                         ...               ...            ...   \n",
      "731                          5                15             24   \n",
      "732                          5               407            722   \n",
      "733                          5                33             67   \n",
      "734                          5                23             32   \n",
      "735                          5                23             31   \n",
      "\n",
      "     perc_of_subscribed_listeners  average_listener_age  \\\n",
      "0                        0.140000             30.720000   \n",
      "1                        0.153846             30.730769   \n",
      "2                        0.160714             30.892857   \n",
      "3                        0.169492             30.576271   \n",
      "4                        0.158730             30.158730   \n",
      "..                            ...                   ...   \n",
      "731                      0.933333             27.133333   \n",
      "732                      0.063882             29.142506   \n",
      "733                      0.757576             29.060606   \n",
      "734                      1.000000             27.217391   \n",
      "735                      1.000000             28.782609   \n",
      "\n",
      "     perc_listeners_from_Africa  perc_listeners_from_Asia  \\\n",
      "0                      0.120000                  0.220000   \n",
      "1                      0.115385                  0.230769   \n",
      "2                      0.125000                  0.214286   \n",
      "3                      0.118644                  0.203390   \n",
      "4                      0.126984                  0.206349   \n",
      "..                          ...                       ...   \n",
      "731                    0.066667                  0.133333   \n",
      "732                    0.100737                  0.171990   \n",
      "733                    0.181818                  0.090909   \n",
      "734                    0.130435                  0.173913   \n",
      "735                    0.217391                  0.086957   \n",
      "\n",
      "     perc_listeners_from_Europe  perc_listeners_from_North America  \\\n",
      "0                      0.080000                           0.340000   \n",
      "1                      0.076923                           0.326923   \n",
      "2                      0.089286                           0.321429   \n",
      "3                      0.101695                           0.338983   \n",
      "4                      0.111111                           0.333333   \n",
      "..                          ...                                ...   \n",
      "731                    0.133333                           0.533333   \n",
      "732                    0.186732                           0.307125   \n",
      "733                    0.181818                           0.303030   \n",
      "734                    0.217391                           0.304348   \n",
      "735                    0.260870                           0.347826   \n",
      "\n",
      "     perc_listeners_from_Oceana  perc_listeners_from_South America  target  \n",
      "0                      0.040000                           0.200000      36  \n",
      "1                      0.038462                           0.211538      38  \n",
      "2                      0.035714                           0.214286      30  \n",
      "3                      0.033898                           0.203390      39  \n",
      "4                      0.031746                           0.190476      39  \n",
      "..                          ...                                ...     ...  \n",
      "731                         NaN                           0.133333       4  \n",
      "732                    0.049140                           0.184275     182  \n",
      "733                         NaN                           0.242424      14  \n",
      "734                    0.086957                           0.086957       8  \n",
      "735                         NaN                           0.086957       5  \n",
      "\n",
      "[736 rows x 16 columns]\n"
     ]
    }
   ],
   "source": [
    "print(df)"
   ]
  },
  {
   "cell_type": "code",
   "execution_count": 7,
   "id": "bea0f02b-34f4-4727-ae17-5b0be29b514b",
   "metadata": {},
   "outputs": [
    {
     "name": "stdout",
     "output_type": "stream",
     "text": [
      "<class 'pandas.core.frame.DataFrame'>\n",
      "RangeIndex: 736 entries, 0 to 735\n",
      "Data columns (total 28 columns):\n",
      " #   Column                             Non-Null Count  Dtype  \n",
      "---  ------                             --------------  -----  \n",
      " 0   is_premium                         736 non-null    int32  \n",
      " 1   weeks_after_artist_created         736 non-null    int64  \n",
      " 2   weeks_after_song_released          736 non-null    int64  \n",
      " 3   unique_listeners                   736 non-null    int64  \n",
      " 4   total_streams                      736 non-null    int64  \n",
      " 5   perc_of_subscribed_listeners       736 non-null    float64\n",
      " 6   average_listener_age               736 non-null    float64\n",
      " 7   perc_listeners_from_Africa         726 non-null    float64\n",
      " 8   perc_listeners_from_Asia           734 non-null    float64\n",
      " 9   perc_listeners_from_Europe         736 non-null    float64\n",
      " 10  perc_listeners_from_North America  736 non-null    float64\n",
      " 11  perc_listeners_from_Oceana         516 non-null    float64\n",
      " 12  perc_listeners_from_South America  730 non-null    float64\n",
      " 13  target                             736 non-null    int64  \n",
      " 14  song_genre_Alternative             736 non-null    uint8  \n",
      " 15  song_genre_Blues                   736 non-null    uint8  \n",
      " 16  song_genre_Classical               736 non-null    uint8  \n",
      " 17  song_genre_Electronic              736 non-null    uint8  \n",
      " 18  song_genre_Hip-hop                 736 non-null    uint8  \n",
      " 19  song_genre_Jazz                    736 non-null    uint8  \n",
      " 20  song_genre_Pop                     736 non-null    uint8  \n",
      " 21  song_genre_Rock                    736 non-null    uint8  \n",
      " 22  artist_continent_Africa            736 non-null    uint8  \n",
      " 23  artist_continent_Asia              736 non-null    uint8  \n",
      " 24  artist_continent_Europe            736 non-null    uint8  \n",
      " 25  artist_continent_North America     736 non-null    uint8  \n",
      " 26  artist_continent_Oceana            736 non-null    uint8  \n",
      " 27  artist_continent_South America     736 non-null    uint8  \n",
      "dtypes: float64(8), int32(1), int64(5), uint8(14)\n",
      "memory usage: 87.8 KB\n"
     ]
    }
   ],
   "source": [
    "df = df.join(pd.get_dummies(df.genre, prefix='song_genre').fillna(0))\n",
    "df = df.join(pd.get_dummies(df.artist_continent, prefix='artist_continent').fillna(0))\n",
    "df = df.drop(columns=['genre', 'artist_continent'], errors='ignore')\n",
    "df.is_premium = df.is_premium.astype(int)\n",
    "df.info()"
   ]
  },
  {
   "cell_type": "code",
   "execution_count": 8,
   "id": "03d5ed96-ff0e-4ff2-a501-b6bec5671436",
   "metadata": {},
   "outputs": [],
   "source": [
    "df.loc[:, df.columns.str.startswith('perc_listeners_from')] = df.loc[:, df.columns.str.startswith('perc_listeners_from')].fillna(0)"
   ]
  },
  {
   "cell_type": "code",
   "execution_count": 9,
   "id": "e87fb4e9-a961-49da-b49b-f2f6c6f15a39",
   "metadata": {},
   "outputs": [],
   "source": [
    "df.to_csv(DATA_PATH/f'train_data_{weeks}_weeks.csv')"
   ]
  },
  {
   "cell_type": "code",
   "execution_count": null,
   "id": "b987d352-d2df-43aa-82db-e0e0a947e29d",
   "metadata": {},
   "outputs": [],
   "source": []
  }
 ],
 "metadata": {
  "kernelspec": {
   "display_name": "Python 3 (ipykernel)",
   "language": "python",
   "name": "python3"
  },
  "language_info": {
   "codemirror_mode": {
    "name": "ipython",
    "version": 3
   },
   "file_extension": ".py",
   "mimetype": "text/x-python",
   "name": "python",
   "nbconvert_exporter": "python",
   "pygments_lexer": "ipython3",
   "version": "3.11.5"
  }
 },
 "nbformat": 4,
 "nbformat_minor": 5
}

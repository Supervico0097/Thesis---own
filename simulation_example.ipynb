{
 "cells": [
  {
   "cell_type": "code",
   "execution_count": null,
   "id": "23f0e70c-90c1-4428-b4f4-871728d7392b",
   "metadata": {},
   "outputs": [],
   "source": [
    "artist_list = ...\n",
    "\n",
    "def generate_songs()\n",
    "    for artist in artist_list:\n",
    "        artist_type = random...\n",
    "        for _ in range(5): #random from normal(m=4, s=1.5)\n",
    "            if artist_type == 'bunch_release':\n",
    "            "
   ]
  },
  {
   "cell_type": "code",
   "execution_count": 7,
   "id": "b372310f-fbc7-4bae-b7e1-cf70294d9c1c",
   "metadata": {},
   "outputs": [],
   "source": [
    "import numpy as np\n",
    "\n",
    "number_of_songs = ...\n",
    "experienced_artist = number_of_songs>20\n",
    "MC = {\n",
    "    'JustRegisterd': [0, 3, 1, 6],\n",
    "    'CDRelease': [0, 1, 95, 5],\n",
    "    'SingleRelease': [0,2,6,2],\n",
    "    'Breake': [\n",
    "        0,  #JustRegisterd\n",
    "        2 if experienced_artist else 1,  #CDRelease\n",
    "        7,  #SingleRelease\n",
    "        2  #Breake\n",
    "    ],\n",
    "}\n",
    "def normalize_dict(d):\n",
    "    for k, v in d.items():\n",
    "        d[k] = np.array(v)/sum(v)    \n",
    "    return d\n",
    "\n",
    "MC = normalize_dict(MC)"
   ]
  },
  {
   "cell_type": "code",
   "execution_count": 12,
   "id": "d8a6adf5-d6fc-4845-8487-93092713e86e",
   "metadata": {},
   "outputs": [],
   "source": [
    "MAIN LOOP - PSEUDOCODE\n",
    "\n",
    "class Simulation:\n",
    "    def _inint():\n",
    "        read yaml\n",
    "        parse yaml\n",
    "        self.variable = yaml['something']\n",
    "        range_of_dates = list(dates between start end date (global))\n",
    "        self.genres_list = [probabilities lik \"Jazz\": 2, \"Rock\": 4]\n",
    "        self.artist_markov_chain = load from somwhere else\n",
    "        self.artist_data_list = []\n",
    "        \n",
    "    def run(self):\n",
    "        for current_date in self.range_of_dates:\n",
    "            create_artists(current_date=current_date) # dfor that day\n",
    "            create_users(current_date=current_date) # for that day\n",
    "            create_songs(current_date=current_date)\n",
    "            # create_follows() # optional\n",
    "            create_streams(current_date=current_date)\n",
    "            \n",
    "    def create_artists():\n",
    "        artist_count =  first one can be 10 later random with mean from the all artists so far # for that day\n",
    "        \n",
    "        for _ in range(artist_count):\n",
    "            countries = get_countries_for_date()\n",
    "            artist = Artist(date=date, countries=countries)\n",
    "            artist_data = artist.get_data()\n",
    "            artist_data_list.append(artist_data)\n",
    "        \n",
    "    def get_countries_for_date():\n",
    "        countries = ['us']\n",
    "        if date>'2002213':\n",
    "            countries.append('eu')\n",
    "        return countries\n",
    "    \n",
    "    def create_users():\n",
    "        artist_data_df = pd.DataFrame(self.artist_data_list)\n",
    "        most_common_counntry = artist_data_df.country_of_origin.top_n(1)\n",
    "        ...\n",
    "        user_count =  first one can be 10 later random with mean from the all artists so far # for that day\n",
    "        \n",
    "        for _ in range(user_count):\n",
    "            countries = get_countries_for_date()\n",
    "            user = User(date=date, countries=countries)\n",
    "            user_data = user.get_data()\n",
    "            user_data_list.append(user_data)\n",
    "        \n",
    "    \n",
    "class Artist:\n",
    "    def _init_(date, countries)\n",
    "        self ...\n",
    "        ...\n",
    "    def return_data()\n",
    "        data = {\n",
    "            \"name\": self.name,\n",
    "            \"country_of_origin\"\n",
    "            ...\n",
    "            \n",
    "        }\n",
    "        return data\n",
    "        \n",
    "        \n",
    "    \n",
    "class User:\n",
    "    def _init_(date, countries)\n",
    "        self ...\n",
    "        ...\n",
    "    def return_data()\n",
    "        data = {\n",
    "            \"name\": self.name,\n",
    "            \"country_of_origin\"\n",
    "            ...\n",
    "            \n",
    "        }\n",
    "        return data\n",
    "        \n",
    "        \n",
    "    "
   ]
  },
  {
   "cell_type": "code",
   "execution_count": 11,
   "id": "d03ef59e-3c7c-4cb9-ace7-c31d3db2a2ed",
   "metadata": {},
   "outputs": [
    {
     "data": {
      "text/plain": [
       "datetime.datetime(2020, 1, 4, 0, 0)"
      ]
     },
     "execution_count": 11,
     "metadata": {},
     "output_type": "execute_result"
    }
   ],
   "source": [
    "result"
   ]
  },
  {
   "cell_type": "code",
   "execution_count": null,
   "id": "eaea0722-7007-4194-ad65-7898eae89554",
   "metadata": {},
   "outputs": [],
   "source": []
  }
 ],
 "metadata": {
  "kernelspec": {
   "display_name": "Python 3 (ipykernel)",
   "language": "python",
   "name": "python3"
  },
  "language_info": {
   "codemirror_mode": {
    "name": "ipython",
    "version": 3
   },
   "file_extension": ".py",
   "mimetype": "text/x-python",
   "name": "python",
   "nbconvert_exporter": "python",
   "pygments_lexer": "ipython3",
   "version": "3.11.3"
  }
 },
 "nbformat": 4,
 "nbformat_minor": 5
}

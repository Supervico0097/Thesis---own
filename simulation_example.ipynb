{
 "cells": [
  {
   "cell_type": "code",
   "execution_count": null,
   "id": "23f0e70c-90c1-4428-b4f4-871728d7392b",
   "metadata": {},
   "outputs": [],
   "source": [
    "artist_list = ...\n",
    "\n",
    "def generate_songs()\n",
    "    for artist in artist_list:\n",
    "        artist_type = random...\n",
    "        for _ in range(5): #random from normal(m=4, s=1.5)\n",
    "            if artist_type == 'bunch_release':\n",
    "            "
   ]
  },
  {
   "cell_type": "code",
   "execution_count": 7,
   "id": "b372310f-fbc7-4bae-b7e1-cf70294d9c1c",
   "metadata": {},
   "outputs": [],
   "source": [
    "import numpy as np\n",
    "\n",
    "number_of_songs = ...\n",
    "experienced_artist = number_of_songs>20\n",
    "MC = {\n",
    "    'JustRegisterd': [0, 3, 1, 6],\n",
    "    'CDRelease': [0, 1, 95, 5],\n",
    "    'SingleRelease': [0,2,6,2],\n",
    "    'Breake': [\n",
    "        0,  #JustRegisterd\n",
    "        2 if experienced_artist else 1,  #CDRelease\n",
    "        7,  #SingleRelease\n",
    "        2  #Breake\n",
    "    ],\n",
    "}\n",
    "def normalize_dict(d):\n",
    "    for k, v in d.items():\n",
    "        d[k] = np.array(v)/sum(v)    \n",
    "    return d\n",
    "\n",
    "MC = normalize_dict(MC)"
   ]
  },
  {
   "cell_type": "code",
   "execution_count": 12,
   "id": "d8a6adf5-d6fc-4845-8487-93092713e86e",
   "metadata": {},
   "outputs": [],
   "source": [
    "MAIN LOOP - PSEUDOCODE\n",
    "\n",
    "class Simulation:\n",
    "    def _inint():\n",
    "        read yaml\n",
    "        parse yaml\n",
    "        self.variable = yaml['something']\n",
    "        range_of_dates = list(dates between start end date (global))\n",
    "        self.genres_list = [probabilities lik \"Jazz\": 2, \"Rock\": 4]\n",
    "        self.artist_markov_chain = load from somwhere else\n",
    "        self.artist_data_list = []\n",
    "        \n",
    "    def run(self):\n",
    "        for current_date in self.range_of_dates:\n",
    "            create_artists(current_date=current_date) # dfor that day\n",
    "            create_users(current_date=current_date) # for that day\n",
    "            create_songs(current_date=current_date)\n",
    "            # create_follows() # optional\n",
    "            create_streams(current_date=current_date)\n",
    "            \n",
    "    def create_artists():\n",
    "        artist_count =  first one can be 10 later random with mean from the all artists so far # for that day\n",
    "        \n",
    "        for _ in range(artist_count):\n",
    "            countries = get_countries_for_date()\n",
    "            artist = Artist(date=date, countries=countries)\n",
    "            artist_data = artist.get_data()\n",
    "            artist_data_list.append(artist_data)\n",
    "        \n",
    "    def get_countries_for_date():\n",
    "        countries = ['us']\n",
    "        if date>'2002213':\n",
    "            countries.append('eu')\n",
    "        return countries\n",
    "    \n",
    "    def create_users():\n",
    "        artist_data_df = pd.DataFrame(self.artist_data_list)\n",
    "        most_common_counntry = artist_data_df.country_of_origin.top_n(1)\n",
    "        ...\n",
    "        user_count =  first one can be 10 later random with mean from the all artists so far # for that day\n",
    "        \n",
    "        for _ in range(user_count):\n",
    "            countries = get_countries_for_date()\n",
    "            user = User(date=date, countries=countries)\n",
    "            user_data = user.get_data()\n",
    "            user_data_list.append(user_data)\n",
    "        \n",
    "    \n",
    "class Artist:\n",
    "    def _init_(date, countries)\n",
    "        self ...\n",
    "        ...\n",
    "    def return_data()\n",
    "        data = {\n",
    "            \"name\": self.name,\n",
    "            \"country_of_origin\"\n",
    "            ...\n",
    "            \n",
    "        }\n",
    "        return data\n",
    "        \n",
    "        \n",
    "    \n",
    "class User:\n",
    "    def _init_(date, countries)\n",
    "        self ...\n",
    "        ...\n",
    "    def return_data()\n",
    "        data = {\n",
    "            \"name\": self.name,\n",
    "            \"country_of_origin\"\n",
    "            ...\n",
    "            \n",
    "        }\n",
    "        return data\n",
    "        \n",
    "        \n",
    "    "
   ]
  },
  {
   "cell_type": "code",
   "execution_count": 11,
   "id": "d03ef59e-3c7c-4cb9-ace7-c31d3db2a2ed",
   "metadata": {},
   "outputs": [
    {
     "data": {
      "text/plain": [
       "datetime.datetime(2020, 1, 4, 0, 0)"
      ]
     },
     "execution_count": 11,
     "metadata": {},
     "output_type": "execute_result"
    }
   ],
   "source": [
    "result"
   ]
  },
  {
   "cell_type": "code",
   "execution_count": 69,
   "id": "d234f1e8-30b2-4da8-a8f8-f0290082dbe8",
   "metadata": {},
   "outputs": [
    {
     "data": {
      "text/plain": [
       "59762330.2825"
      ]
     },
     "execution_count": 69,
     "metadata": {},
     "output_type": "execute_result"
    }
   ],
   "source": [
    "5976.23302825*USER_TOTAL_CNT"
   ]
  },
  {
   "cell_type": "code",
   "execution_count": 70,
   "id": "eaea0722-7007-4194-ad65-7898eae89554",
   "metadata": {},
   "outputs": [],
   "source": [
    "USER_TOTAL_CNT = 10_000\n",
    "\n",
    "l = []\n",
    "for week_no in range(100):\n",
    "    x = round((11.17315 + 0.3660266*week_no + 0.009279995*week_no**2)*(USER_TOTAL_CNT/5976.23302825))\n",
    "    l.append(x)"
   ]
  },
  {
   "cell_type": "code",
   "execution_count": 71,
   "id": "4bc3e7fc-8eb2-4477-8729-3d8592dddbf6",
   "metadata": {},
   "outputs": [],
   "source": [
    "import pandas as pd\n",
    "\n",
    "s = pd.Series(l)"
   ]
  },
  {
   "cell_type": "code",
   "execution_count": 72,
   "id": "a88a79f2-0ba2-42a0-9446-b63fcd0cde18",
   "metadata": {},
   "outputs": [
    {
     "data": {
      "text/plain": [
       "0      19\n",
       "1      19\n",
       "2      20\n",
       "3      21\n",
       "4      21\n",
       "     ... \n",
       "95    217\n",
       "96    221\n",
       "97    224\n",
       "98    228\n",
       "99    232\n",
       "Length: 100, dtype: int64"
      ]
     },
     "execution_count": 72,
     "metadata": {},
     "output_type": "execute_result"
    }
   ],
   "source": [
    "s"
   ]
  },
  {
   "cell_type": "code",
   "execution_count": 73,
   "id": "bcbc388d-7043-469b-a6bc-a2a193d7aa77",
   "metadata": {},
   "outputs": [
    {
     "data": {
      "text/plain": [
       "9999"
      ]
     },
     "execution_count": 73,
     "metadata": {},
     "output_type": "execute_result"
    }
   ],
   "source": [
    "s.sum()"
   ]
  },
  {
   "cell_type": "code",
   "execution_count": 46,
   "id": "c48728b7-72fe-4013-9c0b-11966da9fbad",
   "metadata": {},
   "outputs": [
    {
     "data": {
      "text/plain": [
       "35"
      ]
     },
     "execution_count": 46,
     "metadata": {},
     "output_type": "execute_result"
    }
   ],
   "source": [
    "import numpy as np\n",
    "\n",
    "age = int(((np.random.lognormal(mean=1, sigma=0.1, size=1)) * 20 - 25)[0])\n",
    "age"
   ]
  },
  {
   "cell_type": "code",
   "execution_count": 54,
   "id": "9e807a54-a6f5-4f56-93ca-c39e9ca7cba5",
   "metadata": {},
   "outputs": [
    {
     "data": {
      "text/plain": [
       "2"
      ]
     },
     "execution_count": 54,
     "metadata": {},
     "output_type": "execute_result"
    }
   ],
   "source": [
    "np.random.choice([1,2,3])"
   ]
  },
  {
   "cell_type": "code",
   "execution_count": null,
   "id": "560d8e35-f90d-4c44-a042-190f3e1df1e3",
   "metadata": {},
   "outputs": [],
   "source": []
  }
 ],
 "metadata": {
  "kernelspec": {
   "display_name": "Python 3 (ipykernel)",
   "language": "python",
   "name": "python3"
  },
  "language_info": {
   "codemirror_mode": {
    "name": "ipython",
    "version": 3
   },
   "file_extension": ".py",
   "mimetype": "text/x-python",
   "name": "python",
   "nbconvert_exporter": "python",
   "pygments_lexer": "ipython3",
   "version": "3.11.3"
  }
 },
 "nbformat": 4,
 "nbformat_minor": 5
}
